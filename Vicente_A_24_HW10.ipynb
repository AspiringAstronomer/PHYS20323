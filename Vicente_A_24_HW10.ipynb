{
 "cells": [
  {
   "cell_type": "markdown",
   "metadata": {},
   "source": [
    "# Phyiscs Problems - Lectures 22 & 23 - Homework 10\n",
    "\n",
    "FALL 2024\n"
   ]
  },
  {
   "cell_type": "markdown",
   "metadata": {},
   "source": [
    "### 1) Altitude of a satellite\n",
    "\n",
    "A satellite is to be launched into a circular orbit around the Earth so that it orbits the planet once every T seconds.\n",
    "\n",
    "The altitude h above the Earth’s surface that the satellite must have is:\n",
    "\n",
    "$$h = \\left( \\frac{G M T^2}{4\\pi^2} \\right)^{1/3} - R$$\n",
    "\n",
    "where $G = 6.67 \\times 10^{-11}$ m$^3$ kg$^{-1}$ s$^{-2}$\n",
    "is Newton's gravitational constant, $M = 5.97 \\times 10^{24}$ kg is the mass of the Earth, and $R = 6371$ km is its radius.\n",
    "\n",
    "#### Write a function that asks the user to enter the desired value of T and then calculates and prints out the correct altitude in meters.\n"
   ]
  },
  {
   "cell_type": "code",
   "execution_count": 3,
   "metadata": {},
   "outputs": [
    {
     "name": "stdout",
     "output_type": "stream",
     "text": [
      "Altitude in meters= 4183069.1021891767\n"
     ]
    }
   ],
   "source": [
    "def altitude(T):\n",
    "    #code here\n",
    "    import math\n",
    "    import numpy as np\n",
    "    #value = int(input(\"value: \"))\n",
    "    h = ((6.67*10**-11)*(5.97*10**24)*(T**2)/(4*np.pi**2))**(1/3) - 6371\n",
    "    return h\n",
    "print(\"Altitude in meters=\",altitude(45*60))"
   ]
  },
  {
   "cell_type": "markdown",
   "metadata": {},
   "source": [
    "Use your program to calculate the altitudes of satellites that orbit the Earth once\n",
    "a day (so-called “geosynchronous” orbit), once every 90 minutes, and once every\n",
    "45 minutes. What do you conclude from the last of these calculations?\n",
    "\n",
    "\n",
    "\n"
   ]
  },
  {
   "cell_type": "code",
   "execution_count": 18,
   "metadata": {},
   "outputs": [
    {
     "name": "stdout",
     "output_type": "stream",
     "text": [
      "24 hours: Altitude = 35855910.17617497 ; 90 min: Altitude = 279321.62537285965 ;  45 min: Altitude = -2181559.8978108233\n"
     ]
    }
   ],
   "source": [
    "geosync = 1440*60\n",
    "hourhalf = 90*60\n",
    "min45 = 45*60\n",
    "def altitude(T):\n",
    "    import math\n",
    "    import numpy as np\n",
    "    h = ((6.67*10**-11)*(5.97*10**24)*(T**2)/(4*np.pi**2))**(1/3) - (6371*1000)\n",
    "    return h\n",
    "print(\"24 hours: Altitude =\",altitude(geosync), \"; 90 min: Altitude =\",altitude(hourhalf),\n",
    "      \";  45 min: Altitude =\",altitude(min45))"
   ]
  },
  {
   "cell_type": "markdown",
   "metadata": {},
   "source": [
    "Technically a geosynchronous satellite is one that orbits the Earth once persidereal\n",
    "day, which is 23.93 hours, not 24 hours. Why is this? And how much difference\n",
    "will it make to the altitude of the satellite?"
   ]
  },
  {
   "cell_type": "code",
   "execution_count": 62,
   "metadata": {},
   "outputs": [
    {
     "name": "stdout",
     "output_type": "stream",
     "text": [
      "24 hours: Altitude = 35855910.17617497 ; 90 min: Altitude = -6371000.0\n",
      "90 min: Altitude= 279.32162537285967 km\n"
     ]
    },
    {
     "data": {
      "text/plain": [
       "(None, None)"
      ]
     },
     "execution_count": 62,
     "metadata": {},
     "output_type": "execute_result"
    }
   ],
   "source": [
    "persidereal = 0\n",
    "import math\n",
    "import numpy as np\n",
    "def altitude(T):\n",
    "    h = ((6.67*10**-11)*(5.97*10**24)*(T**2)/(4*np.pi**2))**(1/3) - (6371*1000)\n",
    "    return h\n",
    "geosync = 86400\n",
    "sidereial = 5400   \n",
    "print(\"24 hours: Altitude =\",altitude(geosync), \"; 90 min: Altitude =\",altitude(persidereal)), print(\"90 min: Altitude=\",altitude(sidereial)/1000,\"km\")"
   ]
  },
  {
   "cell_type": "markdown",
   "metadata": {},
   "source": [
    "#### Modify your code to calculate the times from 0.5 hour  to 30 days, in steps of 0.5 hours.   Then plot those data points (time vs h) with properly labled axes.  Plot orbits with height below 0 as red, and plots positive heeghts with times less than geosynchronous in blue and those longer in green."
   ]
  },
  {
   "cell_type": "code",
   "execution_count": 12,
   "metadata": {},
   "outputs": [
    {
     "ename": "IndentationError",
     "evalue": "unexpected indent (2531165853.py, line 17)",
     "output_type": "error",
     "traceback": [
      "\u001b[1;36m  Cell \u001b[1;32mIn[12], line 17\u001b[1;36m\u001b[0m\n\u001b[1;33m    for\u001b[0m\n\u001b[1;37m    ^\u001b[0m\n\u001b[1;31mIndentationError\u001b[0m\u001b[1;31m:\u001b[0m unexpected indent\n"
     ]
    }
   ],
   "source": [
    "from matplotlib import pyplot as plt\n",
    "import scipy.optimize as opt\n",
    "import numpy as np\n",
    "geosync = 1440*60\n",
    "hourhalf = 90*60\n",
    "min45 = 45*60\n",
    "presidereal = 1435.8*60\n",
    "def altitude(T):\n",
    "    h = ((6.67*10**-11)*(5.97*10**24)*(T**2)/(4*np.pi**2))**(1/3) - (6371*1000)\n",
    "    return h\n",
    "print(\"24 hours:Altitude = \",altitude(geosync),\";90 min:Altitude =\",altitude(hourhalf),\n",
    "      \"; 45 min: Altitude =\",altitude(min45),\";90 min: Altitude =\",(persidereal))\n",
    "\n",
    "height =[]\n",
    "time = []\n",
    "#for loop\n",
    "    for \n",
    "# different T\n",
    "\n",
    "    height.append()\n",
    "    time.append()\n",
    "fig = plt.figure(figsize =  (10,8))\n",
    "ax = fig.add_subplot(111)\n",
    "#data = np.genfromtext(\"LinearFit_data.txt\", names=True, dtype=None)\n",
    "#data.dtype\n",
    "ax.scatter(height,time, s=20,c='black')\n",
    "plot(geosync,"
   ]
  },
  {
   "cell_type": "markdown",
   "metadata": {},
   "source": [
    "### 2) Special Relativity\n",
    "\n",
    "A spaceship travels from Earth in a straight line at a (relativistic)\n",
    "speed $v$ to another planet $x$ light years away. Write a program to ask\n",
    "the user for the value of $x$ and the speed $v$ as a fraction of the speed\n",
    "of light, then print out the time in years that the spaceship takes to\n",
    "reach its destination (a) in the rest frame of an observer on Earth\n",
    "and (b) as perceived by a passenger on board the ship.\n",
    "\n",
    "$$x' = \\gamma (x - vt)$$\n",
    "\n",
    "$$t' = \\gamma \\left(t - \\frac{v x}{c^2}\\right)$$\n",
    "\n",
    "$$\\gamma = \\frac{1}{\\sqrt{1 - \\frac{v^2}{c^2}}}$$\n"
   ]
  },
  {
   "cell_type": "code",
   "execution_count": 76,
   "metadata": {},
   "outputs": [
    {
     "name": "stdout",
     "output_type": "stream",
     "text": [
      "roots are x1= 2.0 and x2= 1.0\n"
     ]
    }
   ],
   "source": [
    "import math \n",
    "a = 1\n",
    "b = -3\n",
    "c = 2\n",
    "discriminant = b**2-4*a*c\n",
    "if discriminant>=0:\n",
    "    x1 = (-b+math.sqrt(discriminant))/(2*a)\n",
    "    x2 = (-b-math.sqrt(discriminant))/(2*a)\n",
    "    print(\"roots are x1=\",x1,\"and x2=\",x2)\n",
    "else:\n",
    "    print(\"No real roots.\")"
   ]
  },
  {
   "cell_type": "markdown",
   "metadata": {},
   "source": [
    "#### Use your program to calculate the answers for a planet 10 light years away with $v = 0.90c$,  $v = 0.98c$, $v = 0.999c$."
   ]
  },
  {
   "cell_type": "markdown",
   "metadata": {},
   "source": [
    "### 3) The quadratic equation\n",
    "\n",
    " Write a program that takes as input three numbers, $a$, $b$, and $c$, and prints out the two solutions to the quadratic equation $ax^2 + bx + c = 0$ using the standard\n",
    "formula:\n",
    "\n",
    "$$x = \\frac{-b \\pm \\sqrt{b^2 - 4ac}}{2a}$$\n",
    "\n",
    "Use your program to compute the solutions of $0.001x^2 + 1000x + 0.001 = 0$."
   ]
  },
  {
   "cell_type": "code",
   "execution_count": null,
   "metadata": {},
   "outputs": [],
   "source": []
  },
  {
   "cell_type": "markdown",
   "metadata": {},
   "source": [
    "There is another way to write the solutions to a quadratic equation. Multiplying top and bottom of the solution above by $-b \\mp \\sqrt{b^2 - 4ac}$, show that the solutions\n",
    "can also be written as:\n",
    "\n",
    "$$x = \\frac{2c}{-b \\mp \\sqrt{b^2 - 4ac}}$$\n",
    "\n",
    "Add further lines to your program to print these values in addition to the earlier ones and again use the program to solve $0.001x^2 + 1000x + 0.001 = 0$. What do you see? How do you explain it?"
   ]
  },
  {
   "cell_type": "code",
   "execution_count": 66,
   "metadata": {},
   "outputs": [
    {
     "name": "stdout",
     "output_type": "stream",
     "text": [
      "-1.000000000001e-06 -1000010.5755125057\n"
     ]
    }
   ],
   "source": [
    "import math\n",
    "a = 0.001\n",
    "b = 1000\n",
    "c = 0.001\n",
    "x1 = (2*c)/(-b-math.sqrt(b**2-4*a*c))\n",
    "x2 = 2*c/(-b + math.sqrt(b**2-4*a*c))\n",
    "print(x1,x2)"
   ]
  },
  {
   "cell_type": "markdown",
   "metadata": {},
   "source": [
    "Using what you have learned, write a new program that calculates both roots of a quadratic equation accurately in all cases. \n",
    "\n",
    "__(NOTE: MANY Online quadratic equation are WRONG, so careful how you check!!!).__"
   ]
  },
  {
   "cell_type": "code",
   "execution_count": 72,
   "metadata": {},
   "outputs": [
    {
     "name": "stdout",
     "output_type": "stream",
     "text": [
      "First root: -9.999894245993346e-07\n",
      "Second root: -999999.999999\n"
     ]
    }
   ],
   "source": [
    "import math\n",
    "a = 0.001\n",
    "b = 1000\n",
    "c = 0.001\n",
    "discriminant = b**2-4*a*c\n",
    "\n",
    "if discriminant >=0:\n",
    "    x_1=(-b+math.sqrt(discriminant))/(2*a)\n",
    "    x_2=(-b-math.sqrt(discriminant))/(2*a)\n",
    "    print(f\"First root: {x_1}\")\n",
    "    print(f\"Second root: {x_2}\")\n",
    "else:\n",
    "    print(\"The equation has complex roots\")"
   ]
  }
 ],
 "metadata": {
  "kernelspec": {
   "display_name": "Python 3 (ipykernel)",
   "language": "python",
   "name": "python3"
  },
  "language_info": {
   "codemirror_mode": {
    "name": "ipython",
    "version": 3
   },
   "file_extension": ".py",
   "mimetype": "text/x-python",
   "name": "python",
   "nbconvert_exporter": "python",
   "pygments_lexer": "ipython3",
   "version": "3.12.7"
  }
 },
 "nbformat": 4,
 "nbformat_minor": 4
}
